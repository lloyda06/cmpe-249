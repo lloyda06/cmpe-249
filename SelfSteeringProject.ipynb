{
  "nbformat": 4,
  "nbformat_minor": 0,
  "metadata": {
    "colab": {
      "provenance": [],
      "collapsed_sections": []
    },
    "kernelspec": {
      "name": "python3",
      "display_name": "Python 3"
    },
    "language_info": {
      "name": "python"
    },
    "accelerator": "GPU",
    "gpuClass": "standard"
  },
  "cells": [
    {
      "cell_type": "code",
      "execution_count": null,
      "metadata": {
        "id": "tM57_FPmcpnI"
      },
      "outputs": [],
      "source": [
        "import tensorflow as tf\n",
        "assert float(tf.__version__[:3]) >= 2.3\n",
        "\n",
        "import os\n",
        "import numpy as np\n",
        "import matplotlib.pyplot as plt\n",
        "import pandas as pd"
      ]
    },
    {
      "cell_type": "code",
      "source": [
        "#set to path to train_all.zip on the local system\n",
        "!unzip /content/train_all.zip"
      ],
      "metadata": {
        "id": "fUSoXxWwq0Vy"
      },
      "execution_count": null,
      "outputs": []
    },
    {
      "cell_type": "code",
      "source": [
        "files_labels = []\n",
        "img_dir = \"/content/train_all/\"\n",
        "for fn in os.listdir(img_dir):\n",
        "  steer = round(float(fn.split(\"_\")[2]), 1)\n",
        "  files_labels.append((img_dir + fn, steer))\n",
        "df_labels = pd.DataFrame(files_labels, columns=[\"FileName\",\"Steer\"])\n",
        "df_labels.head()"
      ],
      "metadata": {
        "colab": {
          "base_uri": "https://localhost:8080/",
          "height": 206
        },
        "id": "dskbRvoHnz2P",
        "outputId": "b1cc79f8-e001-4a7f-ea69-9dce4193b1f0"
      },
      "execution_count": null,
      "outputs": [
        {
          "output_type": "execute_result",
          "data": {
            "text/plain": [
              "                                            FileName  Steer\n",
              "0  /content/train_all/img_1662338429.8453093_-0.6...   -0.6\n",
              "1  /content/train_all/img_1662338126.1024442_0_0....    0.0\n",
              "2  /content/train_all/img_1661393157.2950583_0_0....    0.0\n",
              "3  /content/train_all/img_1662337748.28064_0_0.1.jpg    0.0\n",
              "4  /content/train_all/img_1662338364.8273005_0.4_...    0.4"
            ],
            "text/html": [
              "\n",
              "  <div id=\"df-0a66cbec-1eaa-4492-8671-c86351c199fa\">\n",
              "    <div class=\"colab-df-container\">\n",
              "      <div>\n",
              "<style scoped>\n",
              "    .dataframe tbody tr th:only-of-type {\n",
              "        vertical-align: middle;\n",
              "    }\n",
              "\n",
              "    .dataframe tbody tr th {\n",
              "        vertical-align: top;\n",
              "    }\n",
              "\n",
              "    .dataframe thead th {\n",
              "        text-align: right;\n",
              "    }\n",
              "</style>\n",
              "<table border=\"1\" class=\"dataframe\">\n",
              "  <thead>\n",
              "    <tr style=\"text-align: right;\">\n",
              "      <th></th>\n",
              "      <th>FileName</th>\n",
              "      <th>Steer</th>\n",
              "    </tr>\n",
              "  </thead>\n",
              "  <tbody>\n",
              "    <tr>\n",
              "      <th>0</th>\n",
              "      <td>/content/train_all/img_1662338429.8453093_-0.6...</td>\n",
              "      <td>-0.6</td>\n",
              "    </tr>\n",
              "    <tr>\n",
              "      <th>1</th>\n",
              "      <td>/content/train_all/img_1662338126.1024442_0_0....</td>\n",
              "      <td>0.0</td>\n",
              "    </tr>\n",
              "    <tr>\n",
              "      <th>2</th>\n",
              "      <td>/content/train_all/img_1661393157.2950583_0_0....</td>\n",
              "      <td>0.0</td>\n",
              "    </tr>\n",
              "    <tr>\n",
              "      <th>3</th>\n",
              "      <td>/content/train_all/img_1662337748.28064_0_0.1.jpg</td>\n",
              "      <td>0.0</td>\n",
              "    </tr>\n",
              "    <tr>\n",
              "      <th>4</th>\n",
              "      <td>/content/train_all/img_1662338364.8273005_0.4_...</td>\n",
              "      <td>0.4</td>\n",
              "    </tr>\n",
              "  </tbody>\n",
              "</table>\n",
              "</div>\n",
              "      <button class=\"colab-df-convert\" onclick=\"convertToInteractive('df-0a66cbec-1eaa-4492-8671-c86351c199fa')\"\n",
              "              title=\"Convert this dataframe to an interactive table.\"\n",
              "              style=\"display:none;\">\n",
              "        \n",
              "  <svg xmlns=\"http://www.w3.org/2000/svg\" height=\"24px\"viewBox=\"0 0 24 24\"\n",
              "       width=\"24px\">\n",
              "    <path d=\"M0 0h24v24H0V0z\" fill=\"none\"/>\n",
              "    <path d=\"M18.56 5.44l.94 2.06.94-2.06 2.06-.94-2.06-.94-.94-2.06-.94 2.06-2.06.94zm-11 1L8.5 8.5l.94-2.06 2.06-.94-2.06-.94L8.5 2.5l-.94 2.06-2.06.94zm10 10l.94 2.06.94-2.06 2.06-.94-2.06-.94-.94-2.06-.94 2.06-2.06.94z\"/><path d=\"M17.41 7.96l-1.37-1.37c-.4-.4-.92-.59-1.43-.59-.52 0-1.04.2-1.43.59L10.3 9.45l-7.72 7.72c-.78.78-.78 2.05 0 2.83L4 21.41c.39.39.9.59 1.41.59.51 0 1.02-.2 1.41-.59l7.78-7.78 2.81-2.81c.8-.78.8-2.07 0-2.86zM5.41 20L4 18.59l7.72-7.72 1.47 1.35L5.41 20z\"/>\n",
              "  </svg>\n",
              "      </button>\n",
              "      \n",
              "  <style>\n",
              "    .colab-df-container {\n",
              "      display:flex;\n",
              "      flex-wrap:wrap;\n",
              "      gap: 12px;\n",
              "    }\n",
              "\n",
              "    .colab-df-convert {\n",
              "      background-color: #E8F0FE;\n",
              "      border: none;\n",
              "      border-radius: 50%;\n",
              "      cursor: pointer;\n",
              "      display: none;\n",
              "      fill: #1967D2;\n",
              "      height: 32px;\n",
              "      padding: 0 0 0 0;\n",
              "      width: 32px;\n",
              "    }\n",
              "\n",
              "    .colab-df-convert:hover {\n",
              "      background-color: #E2EBFA;\n",
              "      box-shadow: 0px 1px 2px rgba(60, 64, 67, 0.3), 0px 1px 3px 1px rgba(60, 64, 67, 0.15);\n",
              "      fill: #174EA6;\n",
              "    }\n",
              "\n",
              "    [theme=dark] .colab-df-convert {\n",
              "      background-color: #3B4455;\n",
              "      fill: #D2E3FC;\n",
              "    }\n",
              "\n",
              "    [theme=dark] .colab-df-convert:hover {\n",
              "      background-color: #434B5C;\n",
              "      box-shadow: 0px 1px 3px 1px rgba(0, 0, 0, 0.15);\n",
              "      filter: drop-shadow(0px 1px 2px rgba(0, 0, 0, 0.3));\n",
              "      fill: #FFFFFF;\n",
              "    }\n",
              "  </style>\n",
              "\n",
              "      <script>\n",
              "        const buttonEl =\n",
              "          document.querySelector('#df-0a66cbec-1eaa-4492-8671-c86351c199fa button.colab-df-convert');\n",
              "        buttonEl.style.display =\n",
              "          google.colab.kernel.accessAllowed ? 'block' : 'none';\n",
              "\n",
              "        async function convertToInteractive(key) {\n",
              "          const element = document.querySelector('#df-0a66cbec-1eaa-4492-8671-c86351c199fa');\n",
              "          const dataTable =\n",
              "            await google.colab.kernel.invokeFunction('convertToInteractive',\n",
              "                                                     [key], {});\n",
              "          if (!dataTable) return;\n",
              "\n",
              "          const docLinkHtml = 'Like what you see? Visit the ' +\n",
              "            '<a target=\"_blank\" href=https://colab.research.google.com/notebooks/data_table.ipynb>data table notebook</a>'\n",
              "            + ' to learn more about interactive tables.';\n",
              "          element.innerHTML = '';\n",
              "          dataTable['output_type'] = 'display_data';\n",
              "          await google.colab.output.renderOutput(dataTable, element);\n",
              "          const docLink = document.createElement('div');\n",
              "          docLink.innerHTML = docLinkHtml;\n",
              "          element.appendChild(docLink);\n",
              "        }\n",
              "      </script>\n",
              "    </div>\n",
              "  </div>\n",
              "  "
            ]
          },
          "metadata": {},
          "execution_count": 4
        }
      ]
    },
    {
      "cell_type": "code",
      "source": [],
      "metadata": {
        "id": "ram0qw-4p45E"
      },
      "execution_count": null,
      "outputs": []
    },
    {
      "cell_type": "code",
      "source": [
        "IMAGE_SIZE = 224\n",
        "BATCH_SIZE = 64\n",
        "\n",
        "datagen = tf.keras.preprocessing.image.ImageDataGenerator(\n",
        "    rescale=1./255, \n",
        "    validation_split=0.2)\n",
        "\n",
        "train_generator = datagen.flow_from_dataframe(\n",
        "    df_labels,\n",
        "    x_col=\"FileName\",\n",
        "    y_col=\"Steer\",\n",
        "    class_mode=\"raw\",\n",
        "    target_size=(IMAGE_SIZE, IMAGE_SIZE),\n",
        "    batch_size=BATCH_SIZE, \n",
        "    subset='training')\n",
        "\n",
        "val_generator = datagen.flow_from_dataframe(\n",
        "    df_labels,\n",
        "    x_col=\"FileName\",\n",
        "    y_col=\"Steer\",\n",
        "    class_mode=\"raw\",\n",
        "    target_size=(IMAGE_SIZE, IMAGE_SIZE),\n",
        "    batch_size=BATCH_SIZE, \n",
        "    subset='validation')"
      ],
      "metadata": {
        "id": "QnJwANtyfvTp",
        "colab": {
          "base_uri": "https://localhost:8080/"
        },
        "outputId": "01877f9a-fcd6-4135-afd5-0ee00b099451"
      },
      "execution_count": null,
      "outputs": [
        {
          "output_type": "stream",
          "name": "stdout",
          "text": [
            "Found 809 validated image filenames.\n",
            "Found 202 validated image filenames.\n"
          ]
        }
      ]
    },
    {
      "cell_type": "code",
      "source": [
        "image_batch, label_batch = next(val_generator)\n",
        "image_batch.shape, label_batch.shape"
      ],
      "metadata": {
        "id": "v4AF94o0i6ys",
        "colab": {
          "base_uri": "https://localhost:8080/"
        },
        "outputId": "f6603de6-0c03-42a7-e3d7-255be9d60ef3"
      },
      "execution_count": null,
      "outputs": [
        {
          "output_type": "execute_result",
          "data": {
            "text/plain": [
              "((64, 224, 224, 3), (64,))"
            ]
          },
          "metadata": {},
          "execution_count": 6
        }
      ]
    },
    {
      "cell_type": "code",
      "source": [
        "IMG_SHAPE = (IMAGE_SIZE, IMAGE_SIZE, 3)\n",
        "\n",
        "# Create the base model from the pre-trained MobileNet V2\n",
        "base_model = tf.keras.applications.MobileNetV2(input_shape=IMG_SHAPE,\n",
        "                                              include_top=False, \n",
        "                                              weights='imagenet')\n",
        "#base_model.trainable = False\n",
        "\n",
        "base_model.trainable = True\n",
        "fine_tune_at = 150\n",
        "\n",
        "# Freeze all the layers before the `fine_tune_at` layer\n",
        "for layer in base_model.layers[:fine_tune_at]:\n",
        "  layer.trainable =  False"
      ],
      "metadata": {
        "id": "borvaaBlsm_V",
        "colab": {
          "base_uri": "https://localhost:8080/"
        },
        "outputId": "43cb6ca3-dc86-4c5c-cbde-9b78566645e1"
      },
      "execution_count": null,
      "outputs": [
        {
          "output_type": "stream",
          "name": "stdout",
          "text": [
            "Downloading data from https://storage.googleapis.com/tensorflow/keras-applications/mobilenet_v2/mobilenet_v2_weights_tf_dim_ordering_tf_kernels_1.0_224_no_top.h5\n",
            "9412608/9406464 [==============================] - 0s 0us/step\n",
            "9420800/9406464 [==============================] - 0s 0us/step\n"
          ]
        }
      ]
    },
    {
      "cell_type": "code",
      "source": [
        "base_model.layers[150:]"
      ],
      "metadata": {
        "colab": {
          "base_uri": "https://localhost:8080/"
        },
        "id": "Vz3aUwj5EJEn",
        "outputId": "7e7232bb-1ab5-47a8-caad-c8c2c0114251"
      },
      "execution_count": null,
      "outputs": [
        {
          "output_type": "execute_result",
          "data": {
            "text/plain": [
              "[<keras.layers.normalization.batch_normalization.BatchNormalization at 0x7f8f1c10d350>,\n",
              " <keras.layers.convolutional.Conv2D at 0x7f8f1c220250>,\n",
              " <keras.layers.normalization.batch_normalization.BatchNormalization at 0x7f8f1c155790>,\n",
              " <keras.layers.advanced_activations.ReLU at 0x7f8f1c1195d0>]"
            ]
          },
          "metadata": {},
          "execution_count": 7
        }
      ]
    },
    {
      "cell_type": "code",
      "source": [
        "base_model.summary()"
      ],
      "metadata": {
        "id": "ygwQZkxFDzqn"
      },
      "execution_count": null,
      "outputs": []
    },
    {
      "cell_type": "code",
      "source": [
        "model = tf.keras.Sequential([\n",
        "  base_model,\n",
        "  tf.keras.layers.Conv2D(filters=32, kernel_size=3, activation='relu'),\n",
        "  tf.keras.layers.Dropout(0.3),\n",
        "  tf.keras.layers.GlobalMaxPooling2D(),\n",
        "  tf.keras.layers.Dense(units=256, activation='relu'),\n",
        "  tf.keras.layers.Dropout(0.5),\n",
        "  tf.keras.layers.Dense(units=1) #tanh goes from -1 to 1\n",
        "])"
      ],
      "metadata": {
        "id": "QIb3UyeqtRYb"
      },
      "execution_count": null,
      "outputs": []
    },
    {
      "cell_type": "code",
      "source": [
        "model.compile(optimizer=tf.keras.optimizers.Adam(\n",
        "                learning_rate=0.000075\n",
        "              ),\n",
        "              loss='mean_squared_error',\n",
        "              metrics=['mean_absolute_error'])"
      ],
      "metadata": {
        "id": "UNE9NcZTtgGV"
      },
      "execution_count": null,
      "outputs": []
    },
    {
      "cell_type": "code",
      "source": [
        "model.summary()"
      ],
      "metadata": {
        "colab": {
          "base_uri": "https://localhost:8080/"
        },
        "id": "9VceW1YMtw2-",
        "outputId": "9048790f-ea63-4d11-bdfc-a2f364d5b7dd"
      },
      "execution_count": null,
      "outputs": [
        {
          "output_type": "stream",
          "name": "stdout",
          "text": [
            "Model: \"sequential_2\"\n",
            "_________________________________________________________________\n",
            " Layer (type)                Output Shape              Param #   \n",
            "=================================================================\n",
            " mobilenetv2_1.00_224 (Funct  (None, 7, 7, 1280)       2257984   \n",
            " ional)                                                          \n",
            "                                                                 \n",
            " conv2d_2 (Conv2D)           (None, 5, 5, 32)          368672    \n",
            "                                                                 \n",
            " dropout_4 (Dropout)         (None, 5, 5, 32)          0         \n",
            "                                                                 \n",
            " global_max_pooling2d_2 (Glo  (None, 32)               0         \n",
            " balMaxPooling2D)                                                \n",
            "                                                                 \n",
            " dense_4 (Dense)             (None, 256)               8448      \n",
            "                                                                 \n",
            " dropout_5 (Dropout)         (None, 256)               0         \n",
            "                                                                 \n",
            " dense_5 (Dense)             (None, 1)                 257       \n",
            "                                                                 \n",
            "=================================================================\n",
            "Total params: 2,635,361\n",
            "Trainable params: 790,177\n",
            "Non-trainable params: 1,845,184\n",
            "_________________________________________________________________\n"
          ]
        }
      ]
    },
    {
      "cell_type": "code",
      "source": [
        "model_checkpoint_callback = tf.keras.callbacks.ModelCheckpoint(\n",
        "    filepath=\"{epoch:02d}-{val_loss:.2f}.hdf5\",\n",
        "    save_weights_only=True,\n",
        "    monitor='val_mean_absolute_error',\n",
        "    mode='min',\n",
        "    save_best_only=True)\n",
        "\n",
        "early_stop_callback = tf.keras.callbacks.EarlyStopping(monitor='val_loss', patience=10)\n",
        "\n",
        "history = model.fit(train_generator,\n",
        "                    steps_per_epoch=len(train_generator), \n",
        "                    epochs=100,\n",
        "                    callbacks=[model_checkpoint_callback, early_stop_callback],\n",
        "                    validation_data=val_generator,\n",
        "                    validation_steps=len(val_generator))"
      ],
      "metadata": {
        "colab": {
          "base_uri": "https://localhost:8080/"
        },
        "id": "vjYEB0W2t5go",
        "outputId": "d9078ad6-6895-4295-a59d-cfe4b8a72678"
      },
      "execution_count": null,
      "outputs": [
        {
          "output_type": "stream",
          "name": "stdout",
          "text": [
            "Epoch 1/100\n",
            "13/13 [==============================] - 6s 263ms/step - loss: 4.3531 - mean_absolute_error: 1.6252 - val_loss: 0.3470 - val_mean_absolute_error: 0.4657\n",
            "Epoch 2/100\n",
            "13/13 [==============================] - 2s 181ms/step - loss: 1.2912 - mean_absolute_error: 0.9125 - val_loss: 0.3736 - val_mean_absolute_error: 0.4776\n",
            "Epoch 3/100\n",
            "13/13 [==============================] - 3s 193ms/step - loss: 0.6872 - mean_absolute_error: 0.6569 - val_loss: 0.2993 - val_mean_absolute_error: 0.4196\n",
            "Epoch 4/100\n",
            "13/13 [==============================] - 3s 194ms/step - loss: 0.4770 - mean_absolute_error: 0.5425 - val_loss: 0.2982 - val_mean_absolute_error: 0.4185\n",
            "Epoch 5/100\n",
            "13/13 [==============================] - 3s 194ms/step - loss: 0.3697 - mean_absolute_error: 0.4778 - val_loss: 0.2917 - val_mean_absolute_error: 0.4099\n",
            "Epoch 6/100\n",
            "13/13 [==============================] - 3s 196ms/step - loss: 0.3346 - mean_absolute_error: 0.4602 - val_loss: 0.2817 - val_mean_absolute_error: 0.4018\n",
            "Epoch 7/100\n",
            "13/13 [==============================] - 3s 195ms/step - loss: 0.2934 - mean_absolute_error: 0.4215 - val_loss: 0.2708 - val_mean_absolute_error: 0.3940\n",
            "Epoch 8/100\n",
            "13/13 [==============================] - 3s 196ms/step - loss: 0.2695 - mean_absolute_error: 0.4079 - val_loss: 0.2628 - val_mean_absolute_error: 0.3898\n",
            "Epoch 9/100\n",
            "13/13 [==============================] - 3s 196ms/step - loss: 0.2501 - mean_absolute_error: 0.3901 - val_loss: 0.2573 - val_mean_absolute_error: 0.3850\n",
            "Epoch 10/100\n",
            "13/13 [==============================] - 3s 196ms/step - loss: 0.2344 - mean_absolute_error: 0.3768 - val_loss: 0.2514 - val_mean_absolute_error: 0.3807\n",
            "Epoch 11/100\n",
            "13/13 [==============================] - 3s 196ms/step - loss: 0.2353 - mean_absolute_error: 0.3730 - val_loss: 0.2423 - val_mean_absolute_error: 0.3734\n",
            "Epoch 12/100\n",
            "13/13 [==============================] - 3s 196ms/step - loss: 0.1994 - mean_absolute_error: 0.3404 - val_loss: 0.2373 - val_mean_absolute_error: 0.3703\n",
            "Epoch 13/100\n",
            "13/13 [==============================] - 3s 196ms/step - loss: 0.2048 - mean_absolute_error: 0.3405 - val_loss: 0.2297 - val_mean_absolute_error: 0.3637\n",
            "Epoch 14/100\n",
            "13/13 [==============================] - 3s 198ms/step - loss: 0.1721 - mean_absolute_error: 0.3163 - val_loss: 0.2238 - val_mean_absolute_error: 0.3599\n",
            "Epoch 15/100\n",
            "13/13 [==============================] - 3s 199ms/step - loss: 0.1719 - mean_absolute_error: 0.3152 - val_loss: 0.2271 - val_mean_absolute_error: 0.3598\n",
            "Epoch 16/100\n",
            "13/13 [==============================] - 3s 203ms/step - loss: 0.1834 - mean_absolute_error: 0.3179 - val_loss: 0.2215 - val_mean_absolute_error: 0.3560\n",
            "Epoch 17/100\n",
            "13/13 [==============================] - 3s 198ms/step - loss: 0.1792 - mean_absolute_error: 0.3148 - val_loss: 0.2201 - val_mean_absolute_error: 0.3531\n",
            "Epoch 18/100\n",
            "13/13 [==============================] - 2s 190ms/step - loss: 0.1442 - mean_absolute_error: 0.2856 - val_loss: 0.2226 - val_mean_absolute_error: 0.3551\n",
            "Epoch 19/100\n",
            "13/13 [==============================] - 3s 197ms/step - loss: 0.1569 - mean_absolute_error: 0.2944 - val_loss: 0.2181 - val_mean_absolute_error: 0.3506\n",
            "Epoch 20/100\n",
            "13/13 [==============================] - 3s 200ms/step - loss: 0.1422 - mean_absolute_error: 0.2787 - val_loss: 0.2135 - val_mean_absolute_error: 0.3464\n",
            "Epoch 21/100\n",
            "13/13 [==============================] - 3s 201ms/step - loss: 0.1419 - mean_absolute_error: 0.2760 - val_loss: 0.2107 - val_mean_absolute_error: 0.3418\n",
            "Epoch 22/100\n",
            "13/13 [==============================] - 3s 209ms/step - loss: 0.1401 - mean_absolute_error: 0.2757 - val_loss: 0.2011 - val_mean_absolute_error: 0.3343\n",
            "Epoch 23/100\n",
            "13/13 [==============================] - 2s 185ms/step - loss: 0.1278 - mean_absolute_error: 0.2589 - val_loss: 0.2013 - val_mean_absolute_error: 0.3365\n",
            "Epoch 24/100\n",
            "13/13 [==============================] - 2s 190ms/step - loss: 0.1241 - mean_absolute_error: 0.2607 - val_loss: 0.2005 - val_mean_absolute_error: 0.3350\n",
            "Epoch 25/100\n",
            "13/13 [==============================] - 3s 200ms/step - loss: 0.1275 - mean_absolute_error: 0.2622 - val_loss: 0.1987 - val_mean_absolute_error: 0.3340\n",
            "Epoch 26/100\n",
            "13/13 [==============================] - 2s 185ms/step - loss: 0.1170 - mean_absolute_error: 0.2487 - val_loss: 0.2098 - val_mean_absolute_error: 0.3431\n",
            "Epoch 27/100\n",
            "13/13 [==============================] - 2s 186ms/step - loss: 0.1210 - mean_absolute_error: 0.2490 - val_loss: 0.2047 - val_mean_absolute_error: 0.3401\n",
            "Epoch 28/100\n",
            "13/13 [==============================] - 2s 185ms/step - loss: 0.1134 - mean_absolute_error: 0.2447 - val_loss: 0.2042 - val_mean_absolute_error: 0.3408\n",
            "Epoch 29/100\n",
            "13/13 [==============================] - 2s 185ms/step - loss: 0.1201 - mean_absolute_error: 0.2464 - val_loss: 0.1990 - val_mean_absolute_error: 0.3375\n",
            "Epoch 30/100\n",
            "13/13 [==============================] - 2s 189ms/step - loss: 0.1146 - mean_absolute_error: 0.2430 - val_loss: 0.1940 - val_mean_absolute_error: 0.3343\n",
            "Epoch 31/100\n",
            "13/13 [==============================] - 2s 187ms/step - loss: 0.0950 - mean_absolute_error: 0.2258 - val_loss: 0.1957 - val_mean_absolute_error: 0.3374\n",
            "Epoch 32/100\n",
            "13/13 [==============================] - 2s 188ms/step - loss: 0.0985 - mean_absolute_error: 0.2227 - val_loss: 0.1966 - val_mean_absolute_error: 0.3371\n",
            "Epoch 33/100\n",
            "13/13 [==============================] - 3s 204ms/step - loss: 0.1050 - mean_absolute_error: 0.2314 - val_loss: 0.1924 - val_mean_absolute_error: 0.3331\n",
            "Epoch 34/100\n",
            "13/13 [==============================] - 2s 194ms/step - loss: 0.1030 - mean_absolute_error: 0.2243 - val_loss: 0.1969 - val_mean_absolute_error: 0.3358\n",
            "Epoch 35/100\n",
            "13/13 [==============================] - 3s 203ms/step - loss: 0.0761 - mean_absolute_error: 0.1984 - val_loss: 0.1916 - val_mean_absolute_error: 0.3328\n",
            "Epoch 36/100\n",
            "13/13 [==============================] - 3s 204ms/step - loss: 0.0958 - mean_absolute_error: 0.2188 - val_loss: 0.1931 - val_mean_absolute_error: 0.3309\n",
            "Epoch 37/100\n",
            "13/13 [==============================] - 2s 186ms/step - loss: 0.0843 - mean_absolute_error: 0.2055 - val_loss: 0.1937 - val_mean_absolute_error: 0.3333\n",
            "Epoch 38/100\n",
            "13/13 [==============================] - 3s 198ms/step - loss: 0.0875 - mean_absolute_error: 0.2075 - val_loss: 0.1914 - val_mean_absolute_error: 0.3282\n",
            "Epoch 39/100\n",
            "13/13 [==============================] - 2s 182ms/step - loss: 0.0877 - mean_absolute_error: 0.2118 - val_loss: 0.1968 - val_mean_absolute_error: 0.3359\n",
            "Epoch 40/100\n",
            "13/13 [==============================] - 3s 196ms/step - loss: 0.0964 - mean_absolute_error: 0.2129 - val_loss: 0.1875 - val_mean_absolute_error: 0.3279\n",
            "Epoch 41/100\n",
            "13/13 [==============================] - 3s 195ms/step - loss: 0.0816 - mean_absolute_error: 0.2011 - val_loss: 0.1894 - val_mean_absolute_error: 0.3260\n",
            "Epoch 42/100\n",
            "13/13 [==============================] - 2s 182ms/step - loss: 0.0725 - mean_absolute_error: 0.1878 - val_loss: 0.1912 - val_mean_absolute_error: 0.3288\n",
            "Epoch 43/100\n",
            "13/13 [==============================] - 2s 183ms/step - loss: 0.0759 - mean_absolute_error: 0.1940 - val_loss: 0.1869 - val_mean_absolute_error: 0.3276\n",
            "Epoch 44/100\n",
            "13/13 [==============================] - 2s 182ms/step - loss: 0.0851 - mean_absolute_error: 0.2063 - val_loss: 0.1909 - val_mean_absolute_error: 0.3302\n",
            "Epoch 45/100\n",
            "13/13 [==============================] - 2s 183ms/step - loss: 0.0765 - mean_absolute_error: 0.1942 - val_loss: 0.1918 - val_mean_absolute_error: 0.3299\n",
            "Epoch 46/100\n",
            "13/13 [==============================] - 2s 182ms/step - loss: 0.0703 - mean_absolute_error: 0.1867 - val_loss: 0.1889 - val_mean_absolute_error: 0.3275\n",
            "Epoch 47/100\n",
            "13/13 [==============================] - 3s 196ms/step - loss: 0.0717 - mean_absolute_error: 0.1869 - val_loss: 0.1883 - val_mean_absolute_error: 0.3250\n",
            "Epoch 48/100\n",
            "13/13 [==============================] - 3s 200ms/step - loss: 0.0688 - mean_absolute_error: 0.1813 - val_loss: 0.1860 - val_mean_absolute_error: 0.3219\n",
            "Epoch 49/100\n",
            "13/13 [==============================] - 2s 184ms/step - loss: 0.0748 - mean_absolute_error: 0.1877 - val_loss: 0.1865 - val_mean_absolute_error: 0.3227\n",
            "Epoch 50/100\n",
            "13/13 [==============================] - 2s 181ms/step - loss: 0.0693 - mean_absolute_error: 0.1801 - val_loss: 0.1870 - val_mean_absolute_error: 0.3244\n",
            "Epoch 51/100\n",
            "13/13 [==============================] - 2s 180ms/step - loss: 0.0690 - mean_absolute_error: 0.1784 - val_loss: 0.1928 - val_mean_absolute_error: 0.3270\n",
            "Epoch 52/100\n",
            "13/13 [==============================] - 2s 181ms/step - loss: 0.0771 - mean_absolute_error: 0.1864 - val_loss: 0.1843 - val_mean_absolute_error: 0.3228\n",
            "Epoch 53/100\n",
            "13/13 [==============================] - 2s 180ms/step - loss: 0.0710 - mean_absolute_error: 0.1824 - val_loss: 0.1912 - val_mean_absolute_error: 0.3313\n",
            "Epoch 54/100\n",
            "13/13 [==============================] - 2s 181ms/step - loss: 0.0726 - mean_absolute_error: 0.1829 - val_loss: 0.1861 - val_mean_absolute_error: 0.3255\n",
            "Epoch 55/100\n",
            "13/13 [==============================] - 3s 193ms/step - loss: 0.0738 - mean_absolute_error: 0.1821 - val_loss: 0.1844 - val_mean_absolute_error: 0.3191\n",
            "Epoch 56/100\n",
            "13/13 [==============================] - 3s 195ms/step - loss: 0.0674 - mean_absolute_error: 0.1730 - val_loss: 0.1812 - val_mean_absolute_error: 0.3182\n",
            "Epoch 57/100\n",
            "13/13 [==============================] - 3s 200ms/step - loss: 0.0678 - mean_absolute_error: 0.1789 - val_loss: 0.1776 - val_mean_absolute_error: 0.3154\n",
            "Epoch 58/100\n",
            "13/13 [==============================] - 2s 180ms/step - loss: 0.0669 - mean_absolute_error: 0.1753 - val_loss: 0.1869 - val_mean_absolute_error: 0.3259\n",
            "Epoch 59/100\n",
            "13/13 [==============================] - 2s 180ms/step - loss: 0.0729 - mean_absolute_error: 0.1798 - val_loss: 0.1828 - val_mean_absolute_error: 0.3209\n",
            "Epoch 60/100\n",
            "13/13 [==============================] - 3s 193ms/step - loss: 0.0659 - mean_absolute_error: 0.1742 - val_loss: 0.1758 - val_mean_absolute_error: 0.3133\n",
            "Epoch 61/100\n",
            "13/13 [==============================] - 2s 182ms/step - loss: 0.0598 - mean_absolute_error: 0.1646 - val_loss: 0.1838 - val_mean_absolute_error: 0.3233\n",
            "Epoch 62/100\n",
            "13/13 [==============================] - 2s 180ms/step - loss: 0.0647 - mean_absolute_error: 0.1768 - val_loss: 0.1825 - val_mean_absolute_error: 0.3239\n",
            "Epoch 63/100\n",
            "13/13 [==============================] - 2s 181ms/step - loss: 0.0727 - mean_absolute_error: 0.1791 - val_loss: 0.1878 - val_mean_absolute_error: 0.3245\n",
            "Epoch 64/100\n",
            "13/13 [==============================] - 2s 181ms/step - loss: 0.0673 - mean_absolute_error: 0.1772 - val_loss: 0.1903 - val_mean_absolute_error: 0.3270\n",
            "Epoch 65/100\n",
            "13/13 [==============================] - 2s 181ms/step - loss: 0.0664 - mean_absolute_error: 0.1730 - val_loss: 0.1835 - val_mean_absolute_error: 0.3253\n",
            "Epoch 66/100\n",
            "13/13 [==============================] - 2s 186ms/step - loss: 0.0671 - mean_absolute_error: 0.1703 - val_loss: 0.1918 - val_mean_absolute_error: 0.3291\n",
            "Epoch 67/100\n",
            "13/13 [==============================] - 2s 181ms/step - loss: 0.0661 - mean_absolute_error: 0.1720 - val_loss: 0.1859 - val_mean_absolute_error: 0.3269\n",
            "Epoch 68/100\n",
            "13/13 [==============================] - 2s 184ms/step - loss: 0.0620 - mean_absolute_error: 0.1688 - val_loss: 0.1915 - val_mean_absolute_error: 0.3277\n",
            "Epoch 69/100\n",
            "13/13 [==============================] - 2s 184ms/step - loss: 0.0655 - mean_absolute_error: 0.1716 - val_loss: 0.1855 - val_mean_absolute_error: 0.3253\n",
            "Epoch 70/100\n",
            "13/13 [==============================] - 2s 184ms/step - loss: 0.0582 - mean_absolute_error: 0.1621 - val_loss: 0.1823 - val_mean_absolute_error: 0.3233\n"
          ]
        }
      ]
    },
    {
      "cell_type": "code",
      "source": [
        "acc = history.history['mean_absolute_error']\n",
        "val_acc = history.history['val_mean_absolute_error']\n",
        "\n",
        "loss = history.history['loss']\n",
        "val_loss = history.history['val_loss']\n",
        "\n",
        "plt.figure(figsize=(8, 8))\n",
        "plt.subplot(2, 1, 1)\n",
        "plt.plot(acc, label='Training MAE')\n",
        "plt.plot(val_acc, label='Validation MAE')\n",
        "plt.legend(loc='lower right')\n",
        "plt.ylabel('MAE')\n",
        "plt.ylim([min(plt.ylim()),1])\n",
        "plt.title('Training and Validation MAE')\n",
        "\n",
        "plt.subplot(2, 1, 2)\n",
        "plt.plot(loss, label='Training Loss')\n",
        "plt.plot(val_loss, label='Validation Loss')\n",
        "plt.legend(loc='upper right')\n",
        "plt.ylabel('Mean Squared Error Loss')\n",
        "plt.ylim([0,1.0])\n",
        "plt.title('Training and Validation Loss')\n",
        "plt.xlabel('epoch')\n",
        "plt.show()"
      ],
      "metadata": {
        "colab": {
          "base_uri": "https://localhost:8080/",
          "height": 513
        },
        "id": "3imd8nMduZDH",
        "outputId": "2277063e-5ba5-49be-cb48-4d5d7c0416b9"
      },
      "execution_count": null,
      "outputs": [
        {
          "output_type": "display_data",
          "data": {
            "text/plain": [
              "<Figure size 576x576 with 2 Axes>"
            ],
            "image/png": "[encoded data removed]"
          },
          "metadata": {
            "needs_background": "light"
          }
        }
      ]
    },
    {
      "cell_type": "code",
      "source": [
        "model.save_weights(\"chkpnt-1\")"
      ],
      "metadata": {
        "id": "byQ3rFB5ctHb"
      },
      "execution_count": null,
      "outputs": []
    },
    {
      "cell_type": "markdown",
      "source": [
        "# Now prepare the model to run on the EdgeTPU by converting to TFLite, Quantizing and compiling for the EdgeTPU."
      ],
      "metadata": {
        "id": "OeoUlk5K3bw9"
      }
    },
    {
      "cell_type": "code",
      "source": [
        "# A generator that provides a representative dataset\n",
        "def representative_data_gen():\n",
        "  dataset_list = tf.data.Dataset.list_files(\"/content/train_all/*\")\n",
        "  for i in range(100):\n",
        "    image = next(iter(dataset_list))\n",
        "    image = tf.io.read_file(image)\n",
        "    image = tf.io.decode_jpeg(image, channels=3)\n",
        "    image = tf.image.resize(image, [IMAGE_SIZE, IMAGE_SIZE])\n",
        "    image = tf.cast(image / 255., tf.float32)\n",
        "    image = tf.expand_dims(image, 0)\n",
        "    yield [image]\n",
        "\n",
        "converter = tf.lite.TFLiteConverter.from_keras_model(model)\n",
        "# This enables quantization\n",
        "converter.optimizations = [tf.lite.Optimize.DEFAULT]\n",
        "# This sets the representative dataset for quantization\n",
        "converter.representative_dataset = representative_data_gen\n",
        "# This ensures that if any ops can't be quantized, the converter throws an error\n",
        "converter.target_spec.supported_ops = [tf.lite.OpsSet.TFLITE_BUILTINS_INT8]\n",
        "# For full integer quantization, though supported types defaults to int8 only, we explicitly declare it for clarity.\n",
        "converter.target_spec.supported_types = [tf.int8]\n",
        "# These set the input and output tensors to uint8 (added in r2.3)\n",
        "converter.inference_input_type = tf.uint8\n",
        "converter.inference_output_type = tf.uint8\n",
        "tflite_model = converter.convert()\n",
        "\n",
        "with open('mobilenet_v2_1.0_224_quant.tflite', 'wb') as f:\n",
        "  f.write(tflite_model)"
      ],
      "metadata": {
        "colab": {
          "base_uri": "https://localhost:8080/"
        },
        "id": "SCChHCkrc2rp",
        "outputId": "bef09889-a62b-45f1-b42c-99fe32d90c3a"
      },
      "execution_count": null,
      "outputs": [
        {
          "output_type": "stream",
          "name": "stderr",
          "text": [
            "WARNING:absl:Function `_wrapped_model` contains input name(s) mobilenetv2_1.00_224_input with unsupported characters which will be renamed to mobilenetv2_1_00_224_input in the SavedModel.\n",
            "/usr/local/lib/python3.7/dist-packages/tensorflow/lite/python/convert.py:746: UserWarning: Statistics for quantized inputs were expected, but not specified; continuing anyway.\n",
            "  warnings.warn(\"Statistics for quantized inputs were expected, but not \"\n"
          ]
        }
      ]
    },
    {
      "cell_type": "code",
      "source": [
        "batch_images, batch_truth = next(val_generator)\n",
        "\n",
        "prediction = model(batch_images)\n",
        "\n",
        "keras_mae = tf.keras.metrics.MeanAbsoluteError()\n",
        "keras_mae(prediction[:,0], batch_truth)\n",
        "\n",
        "print(\"Raw model MAE: {:.3%}\".format(keras_mae.result()))"
      ],
      "metadata": {
        "colab": {
          "base_uri": "https://localhost:8080/"
        },
        "id": "vxeA58lkdtoV",
        "outputId": "0da52c23-c713-4920-9e8d-41731ad42977"
      },
      "execution_count": null,
      "outputs": [
        {
          "output_type": "stream",
          "name": "stdout",
          "text": [
            "Raw model MAE: 25.880%\n"
          ]
        }
      ]
    },
    {
      "cell_type": "code",
      "source": [
        "def set_input_tensor(interpreter, input):\n",
        "  input_details = interpreter.get_input_details()[0]\n",
        "  tensor_index = input_details['index']\n",
        "  input_tensor = interpreter.tensor(tensor_index)()[0]\n",
        "  # Inputs for the TFLite model must be uint8, so we quantize our input data.\n",
        "  # NOTE: This step is necessary only because we're receiving input data from\n",
        "  # ImageDataGenerator, which rescaled all image data to float [0,1]. When using\n",
        "  # bitmap inputs, they're already uint8 [0,255] so this can be replaced with:\n",
        "  #   input_tensor[:, :] = input\n",
        "  scale, zero_point = input_details['quantization']\n",
        "  input_tensor[:, :] = np.uint8(input / scale + zero_point)\n",
        "\n",
        "def classify_image(interpreter, input):\n",
        "  set_input_tensor(interpreter, input)\n",
        "  interpreter.invoke()\n",
        "  output_details = interpreter.get_output_details()[0]\n",
        "  output = interpreter.get_tensor(output_details['index'])\n",
        "  # Outputs from the TFLite model are uint8, so we dequantize the results:\n",
        "  scale, zero_point = output_details['quantization']\n",
        "  output = scale * (output - zero_point)\n",
        "  top_1 = np.argmax(output)\n",
        "  return top_1\n",
        "\n",
        "interpreter = tf.lite.Interpreter('mobilenet_v2_1.0_224_quant.tflite')\n",
        "interpreter.allocate_tensors()\n",
        "\n",
        "# Collect all inference predictions in a list\n",
        "batch_prediction = []\n",
        "#batch_truth = np.argmax(batch_labels, axis=1)\n",
        "\n",
        "for i in range(len(batch_images)):\n",
        "  prediction = classify_image(interpreter, batch_images[i])\n",
        "  batch_prediction.append(prediction)\n",
        "\n",
        "# Compare all predictions to the ground truth\n",
        "tflite_mae = tf.keras.metrics.MeanAbsoluteError()\n",
        "tflite_mae(batch_prediction, batch_truth)\n",
        "print(\"Quant TF Lite MAE: {:.3%}\".format(tflite_mae.result()))\n"
      ],
      "metadata": {
        "colab": {
          "base_uri": "https://localhost:8080/"
        },
        "id": "WHbgDmnAhWqf",
        "outputId": "aaa59ca8-92ba-49fa-8939-f70745e6b30c"
      },
      "execution_count": null,
      "outputs": [
        {
          "output_type": "stream",
          "name": "stdout",
          "text": [
            "Quant TF Lite MAE: 32.500%\n"
          ]
        }
      ]
    },
    {
      "cell_type": "code",
      "source": [
        "! curl https://packages.cloud.google.com/apt/doc/apt-key.gpg | sudo apt-key add -\n",
        "\n",
        "! echo \"deb https://packages.cloud.google.com/apt coral-edgetpu-stable main\" | sudo tee /etc/apt/sources.list.d/coral-edgetpu.list\n",
        "\n",
        "! sudo apt-get update\n",
        "\n",
        "! sudo apt-get install edgetpu-compiler\t"
      ],
      "metadata": {
        "id": "SZvql7cwjY2m",
        "colab": {
          "base_uri": "https://localhost:8080/"
        },
        "outputId": "44441a2a-d4f7-4ee4-e460-5f098ed5e9f3"
      },
      "execution_count": null,
      "outputs": [
        {
          "output_type": "stream",
          "name": "stdout",
          "text": [
            "  % Total    % Received % Xferd  Average Speed   Time    Time     Time  Current\n",
            "                                 Dload  Upload   Total   Spent    Left  Speed\n",
            "\r  0     0    0     0    0     0      0      0 --:--:-- --:--:-- --:--:--     0\r100  2537  100  2537    0     0  84566      0 --:--:-- --:--:-- --:--:-- 84566\n",
            "OK\n",
            "deb https://packages.cloud.google.com/apt coral-edgetpu-stable main\n",
            "Get:1 http://security.ubuntu.com/ubuntu bionic-security InRelease [88.7 kB]\n",
            "Get:2 https://cloud.r-project.org/bin/linux/ubuntu bionic-cran40/ InRelease [3,626 B]\n",
            "Get:3 http://ppa.launchpad.net/c2d4u.team/c2d4u4.0+/ubuntu bionic InRelease [15.9 kB]\n",
            "Hit:4 http://archive.ubuntu.com/ubuntu bionic InRelease\n",
            "Get:5 http://security.ubuntu.com/ubuntu bionic-security/main amd64 Packages [2,959 kB]\n",
            "Get:6 http://archive.ubuntu.com/ubuntu bionic-updates InRelease [88.7 kB]\n",
            "Hit:7 http://ppa.launchpad.net/cran/libgit2/ubuntu bionic InRelease\n",
            "Get:8 https://packages.cloud.google.com/apt coral-edgetpu-stable InRelease [6,722 B]\n",
            "Get:9 http://security.ubuntu.com/ubuntu bionic-security/restricted amd64 Packages [1,121 kB]\n",
            "Get:10 http://security.ubuntu.com/ubuntu bionic-security/universe amd64 Packages [1,540 kB]\n",
            "Hit:11 http://ppa.launchpad.net/deadsnakes/ppa/ubuntu bionic InRelease\n",
            "Get:12 http://archive.ubuntu.com/ubuntu bionic-backports InRelease [74.6 kB]\n",
            "Hit:13 http://ppa.launchpad.net/graphics-drivers/ppa/ubuntu bionic InRelease\n",
            "Get:14 https://packages.cloud.google.com/apt coral-edgetpu-stable/main amd64 Packages [2,317 B]\n",
            "Get:15 http://ppa.launchpad.net/c2d4u.team/c2d4u4.0+/ubuntu bionic/main Sources [2,099 kB]\n",
            "Get:16 http://archive.ubuntu.com/ubuntu bionic-updates/main amd64 Packages [3,390 kB]\n",
            "Ign:17 https://developer.download.nvidia.com/compute/machine-learning/repos/ubuntu1804/x86_64  InRelease\n",
            "Hit:18 https://developer.download.nvidia.com/compute/cuda/repos/ubuntu1804/x86_64  InRelease\n",
            "Get:19 http://archive.ubuntu.com/ubuntu bionic-updates/restricted amd64 Packages [1,162 kB]\n",
            "Hit:20 https://developer.download.nvidia.com/compute/machine-learning/repos/ubuntu1804/x86_64  Release\n",
            "Get:22 http://ppa.launchpad.net/c2d4u.team/c2d4u4.0+/ubuntu bionic/main amd64 Packages [1,076 kB]\n",
            "Fetched 13.6 MB in 2s (5,599 kB/s)\n",
            "Reading package lists... Done\n",
            "Reading package lists... Done\n",
            "Building dependency tree       \n",
            "Reading state information... Done\n",
            "The following package was automatically installed and is no longer required:\n",
            "  libnvidia-common-460\n",
            "Use 'sudo apt autoremove' to remove it.\n",
            "The following NEW packages will be installed:\n",
            "  edgetpu-compiler\n",
            "0 upgraded, 1 newly installed, 0 to remove and 30 not upgraded.\n",
            "Need to get 7,913 kB of archives.\n",
            "After this operation, 31.2 MB of additional disk space will be used.\n",
            "Get:1 https://packages.cloud.google.com/apt coral-edgetpu-stable/main amd64 edgetpu-compiler amd64 16.0 [7,913 kB]\n",
            "Fetched 7,913 kB in 1s (14.2 MB/s)\n",
            "debconf: unable to initialize frontend: Dialog\n",
            "debconf: (No usable dialog-like program is installed, so the dialog based frontend cannot be used. at /usr/share/perl5/Debconf/FrontEnd/Dialog.pm line 76, <> line 1.)\n",
            "debconf: falling back to frontend: Readline\n",
            "debconf: unable to initialize frontend: Readline\n",
            "debconf: (This frontend requires a controlling tty.)\n",
            "debconf: falling back to frontend: Teletype\n",
            "dpkg-preconfigure: unable to re-open stdin: \n",
            "Selecting previously unselected package edgetpu-compiler.\n",
            "(Reading database ... 155685 files and directories currently installed.)\n",
            "Preparing to unpack .../edgetpu-compiler_16.0_amd64.deb ...\n",
            "Unpacking edgetpu-compiler (16.0) ...\n",
            "Setting up edgetpu-compiler (16.0) ...\n",
            "Processing triggers for libc-bin (2.27-3ubuntu1.5) ...\n"
          ]
        }
      ]
    },
    {
      "cell_type": "code",
      "source": [
        "! edgetpu_compiler mobilenet_v2_1.0_224_quant.tflite"
      ],
      "metadata": {
        "colab": {
          "base_uri": "https://localhost:8080/"
        },
        "id": "X_tg9TXvjo9T",
        "outputId": "8a343a2d-2979-42dc-b866-715a9c68cd0a"
      },
      "execution_count": null,
      "outputs": [
        {
          "output_type": "stream",
          "name": "stdout",
          "text": [
            "Edge TPU Compiler version 16.0.384591198\n",
            "Started a compilation timeout timer of 180 seconds.\n",
            "\n",
            "Model compiled successfully in 948 ms.\n",
            "\n",
            "Input model: mobilenet_v2_1.0_224_quant.tflite\n",
            "Input size: 2.95MiB\n",
            "Output model: mobilenet_v2_1.0_224_quant_edgetpu.tflite\n",
            "Output size: 3.13MiB\n",
            "On-chip memory used for caching model parameters: 3.36MiB\n",
            "On-chip memory remaining for caching model parameters: 4.34MiB\n",
            "Off-chip memory used for streaming uncached model parameters: 0.00B\n",
            "Number of Edge TPU subgraphs: 1\n",
            "Total number of operations: 72\n",
            "Operation log: mobilenet_v2_1.0_224_quant_edgetpu.log\n",
            "See the operation log file for individual operation details.\n",
            "Compilation child process completed within timeout period.\n",
            "Compilation succeeded! \n"
          ]
        }
      ]
    }
  ]
}